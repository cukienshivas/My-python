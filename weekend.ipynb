{
 "cells": [
  {
   "cell_type": "code",
   "execution_count": 15,
   "metadata": {},
   "outputs": [
    {
     "name": "stdout",
     "output_type": "stream",
     "text": [
      "      * * * * \n",
      "        * * * \n",
      "          * * \n",
      "            * \n"
     ]
    }
   ],
   "source": [
    "n = int(input())\n",
    "for i in range(n):\n",
    "    for _ in range(n + i -1):\n",
    "        print(' ',end=' ')\n",
    "    for _ in range(n - i):\n",
    "        print('*',end =' ')\n",
    "    print()"
   ]
  },
  {
   "cell_type": "code",
   "execution_count": 1,
   "metadata": {},
   "outputs": [
    {
     "name": "stdout",
     "output_type": "stream",
     "text": [
      "[2, 3, 4, 6, 8]\n"
     ]
    }
   ],
   "source": [
    "\n",
    "#selection sort\n",
    "def selection_sort(arr):\n",
    "    for i in range(0,len(arr)-1):\n",
    "        cur_min_idx = i\n",
    "        for j in range(i + 1, len(arr)):\n",
    "            if arr[j] < arr[cur_min_idx]:\n",
    "                cur_min_idx = j\n",
    "        arr[i],arr[cur_min_idx] = arr[cur_min_idx], arr[i]\n",
    "arr = [2,3,4,8,6]\n",
    "selection_sort(arr)\n",
    "print(arr)\n"
   ]
  },
  {
   "cell_type": "code",
   "execution_count": 2,
   "metadata": {},
   "outputs": [
    {
     "name": "stdout",
     "output_type": "stream",
     "text": [
      "[1, 2, 4, 3, 5, 8, 6]\n"
     ]
    }
   ],
   "source": [
    "#insert sort:\n",
    "def insert_sort(arr):\n",
    "    for i in range(1,len(arr)):\n",
    "        j = i\n",
    "        while arr[j - i] > arr[j]:\n",
    "            arr[j - 1], arr[j] = arr[j], arr[j -1]\n",
    "            j -= 1\n",
    "arr = [1,2,4,3,5,8,6]\n",
    "insert_sort(arr)\n",
    "print(arr)"
   ]
  },
  {
   "cell_type": "code",
   "execution_count": 17,
   "metadata": {},
   "outputs": [
    {
     "name": "stdout",
     "output_type": "stream",
     "text": [
      "0xf\n"
     ]
    }
   ],
   "source": [
    "\n",
    "x = 15\n",
    "\n",
    "print(hex(x))\n"
   ]
  }
 ],
 "metadata": {
  "kernelspec": {
   "display_name": "Python 3",
   "language": "python",
   "name": "python3"
  },
  "language_info": {
   "codemirror_mode": {
    "name": "ipython",
    "version": 3
   },
   "file_extension": ".py",
   "mimetype": "text/x-python",
   "name": "python",
   "nbconvert_exporter": "python",
   "pygments_lexer": "ipython3",
   "version": "3.12.2"
  }
 },
 "nbformat": 4,
 "nbformat_minor": 2
}
